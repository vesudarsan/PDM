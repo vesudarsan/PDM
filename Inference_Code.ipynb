{
 "cells": [
  {
   "cell_type": "code",
   "execution_count": 87,
   "metadata": {},
   "outputs": [
    {
     "name": "stdout",
     "output_type": "stream",
     "text": [
      "0  The Response is : \"Normal\"\n",
      "1  The Response is : \"Normal\"\n",
      "2  The Response is : \"Normal\"\n",
      "3  The Response is : \"Normal\"\n",
      "4  The Response is : \"Normal\"\n",
      "5  The Response is : \"Anomaly Detected\"\n",
      "6  The Response is : \"Anomaly Detected\"\n",
      "7  The Response is : \"Anomaly Detected\"\n",
      "8  The Response is : \"Anomaly Detected\"\n",
      "9  The Response is : \"Anomaly Detected\"\n",
      "10  The Response is : \"Normal\"\n",
      "11  The Response is : \"Normal\"\n",
      "12  The Response is : \"Normal\"\n",
      "13  The Response is : \"Normal\"\n",
      "14  The Response is : \"Normal\"\n",
      "15  The Response is : \"Normal\"\n"
     ]
    },
    {
     "ename": "KeyboardInterrupt",
     "evalue": "",
     "output_type": "error",
     "traceback": [
      "\u001b[0;31m---------------------------------------------------------------------------\u001b[0m",
      "\u001b[0;31mKeyboardInterrupt\u001b[0m                         Traceback (most recent call last)",
      "\u001b[0;32m<ipython-input-87-6dd71506086d>\u001b[0m in \u001b[0;36m<module>\u001b[0;34m\u001b[0m\n\u001b[1;32m     23\u001b[0m     \u001b[0mpastebin_url\u001b[0m \u001b[0;34m=\u001b[0m \u001b[0mr\u001b[0m\u001b[0;34m.\u001b[0m\u001b[0mtext\u001b[0m\u001b[0;34m\u001b[0m\u001b[0;34m\u001b[0m\u001b[0m\n\u001b[1;32m     24\u001b[0m     \u001b[0mprint\u001b[0m\u001b[0;34m(\u001b[0m\u001b[0mi\u001b[0m\u001b[0;34m,\u001b[0m\u001b[0;34m\" The Response is : %s\"\u001b[0m\u001b[0;34m%\u001b[0m\u001b[0mpastebin_url\u001b[0m\u001b[0;34m)\u001b[0m\u001b[0;34m\u001b[0m\u001b[0;34m\u001b[0m\u001b[0m\n\u001b[0;32m---> 25\u001b[0;31m     \u001b[0mtime\u001b[0m\u001b[0;34m.\u001b[0m\u001b[0msleep\u001b[0m\u001b[0;34m(\u001b[0m\u001b[0;36m1\u001b[0m\u001b[0;34m)\u001b[0m\u001b[0;34m\u001b[0m\u001b[0;34m\u001b[0m\u001b[0m\n\u001b[0m",
      "\u001b[0;31mKeyboardInterrupt\u001b[0m: "
     ]
    }
   ],
   "source": [
    "import json\n",
    "import requests\n",
    "import time\n",
    "import pandas as pd\n",
    "\n",
    "\n",
    "# defining the api-endpoint  \n",
    "API_ENDPOINT = \"http://127.0.0.1:8000/PDM_Model_Inference/\"\n",
    "\n",
    "\n",
    "# df = pd.read_csv(\"Test.csv\")\n",
    "\n",
    "df =pd.read_csv(\"Engine.csv\")\n",
    "df.drop('time', axis=1, inplace=True)\n",
    "\n",
    "entire_list = df.values.tolist()\n",
    "data = {}\n",
    "for i in range(0,len(entire_list)):\n",
    "    data[\"ME1\"] = entire_list[i]    \n",
    "    r =  requests.post(url = API_ENDPOINT, json = data)\n",
    "\n",
    "    # extracting response text  \n",
    "    pastebin_url = r.text \n",
    "    print(i,\" The Response is : %s\"%pastebin_url)\n",
    "    time.sleep(1)"
   ]
  },
  {
   "cell_type": "code",
   "execution_count": null,
   "metadata": {},
   "outputs": [],
   "source": []
  }
 ],
 "metadata": {
  "kernelspec": {
   "display_name": "Python 3",
   "language": "python",
   "name": "python3"
  },
  "language_info": {
   "codemirror_mode": {
    "name": "ipython",
    "version": 3
   },
   "file_extension": ".py",
   "mimetype": "text/x-python",
   "name": "python",
   "nbconvert_exporter": "python",
   "pygments_lexer": "ipython3",
   "version": "3.7.6"
  }
 },
 "nbformat": 4,
 "nbformat_minor": 4
}
